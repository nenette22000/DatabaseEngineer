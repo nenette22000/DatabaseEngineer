{
 "cells": [
  {
   "cell_type": "code",
   "execution_count": 1,
   "id": "3d73ee72-2c8f-4f67-afbb-c3ef85723797",
   "metadata": {},
   "outputs": [
    {
     "name": "stdout",
     "output_type": "stream",
     "text": [
      "Requirement already satisfied: mysql-connector-python in /Library/Frameworks/Python.framework/Versions/3.11/lib/python3.11/site-packages (8.4.0)\n"
     ]
    }
   ],
   "source": [
    "!pip3 install mysql-connector-python"
   ]
  },
  {
   "cell_type": "code",
   "execution_count": 2,
   "id": "b0f2628c-53bd-41e7-a98c-bdcdd8968d3f",
   "metadata": {},
   "outputs": [],
   "source": [
    "import mysql.connector as connector"
   ]
  },
  {
   "cell_type": "code",
   "execution_count": 3,
   "id": "966574f1-49c2-48e2-b87f-b1baa037bc6f",
   "metadata": {},
   "outputs": [],
   "source": [
    "connection = connector.connect(user = \"capsuser\", password = \"pass2024\" , db = \"LittleLemonDB\")"
   ]
  },
  {
   "cell_type": "code",
   "execution_count": 4,
   "id": "4c4f7130-140f-4273-b3f1-c634900d4a05",
   "metadata": {},
   "outputs": [],
   "source": [
    "cursor = connection.cursor()"
   ]
  },
  {
   "cell_type": "code",
   "execution_count": 5,
   "id": "4b5add9d-1c3d-412a-b0ce-0528d551180d",
   "metadata": {},
   "outputs": [
    {
     "name": "stdout",
     "output_type": "stream",
     "text": [
      "('Tables_in_littlelemondb',)\n",
      "('Bookings',)\n",
      "('Customers',)\n",
      "('Menu',)\n",
      "('MenuItems',)\n",
      "('OrderDelivery',)\n",
      "('Orders',)\n",
      "('ordersview',)\n",
      "('OrderView',)\n",
      "('Staff',)\n"
     ]
    }
   ],
   "source": [
    "show_tables_query = \"SHOW tables\" \n",
    "cursor.execute(show_tables_query)\n",
    "\n",
    "results=cursor.fetchall()\n",
    "\n",
    "columns=cursor.column_names\n",
    "print(columns)\n",
    "\n",
    "for result in results:\n",
    "  print(result)"
   ]
  },
  {
   "cell_type": "code",
   "execution_count": 6,
   "id": "489c7434-22b3-4578-9b42-3eea5e68e3e3",
   "metadata": {},
   "outputs": [
    {
     "name": "stdout",
     "output_type": "stream",
     "text": [
      "[('Bookings',), ('Customers',), ('Menu',), ('MenuItems',), ('OrderDelivery',), ('Orders',), ('ordersview',), ('OrderView',), ('Staff',)]\n"
     ]
    }
   ],
   "source": [
    "print(results)"
   ]
  },
  {
   "cell_type": "code",
   "execution_count": 9,
   "id": "c19dc8da-b992-4244-81e2-ccbb2a295ee6",
   "metadata": {},
   "outputs": [
    {
     "name": "stdout",
     "output_type": "stream",
     "text": [
      "('FullName', 'PhoneNumber', 'TotalCost')\n",
      "('AliceJohnson', '555-123-4567', Decimal('180.50'))\n",
      "('EvaBrown', '444-777-1111', Decimal('120.75'))\n",
      "('DanielWhite', '999-888-7777', Decimal('200.25'))\n",
      "('JohnDoe', '123-456-7890', Decimal('175.00'))\n",
      "('GraceMoore', '111-222-3333', Decimal('160.00'))\n",
      "('OliviaMiller', '777-555-9999', Decimal('152.75'))\n",
      "('JaneSmith', '987-654-3210', Decimal('165.50'))\n",
      "('BobWilliams', '888-999-0000', Decimal('185.75'))\n",
      "('CharlieDavis', '222-333-4444', Decimal('160.00'))\n",
      "('LiamTaylor', '444-666-8888', Decimal('210.30'))\n",
      "The cursor is closed.\n",
      "MySQL connection is closed.\n"
     ]
    }
   ],
   "source": [
    "join_query = \"\"\" SELECT CONCAT(Customers.FirstName, Customers.LastName) AS 'FullName',\n",
    "Customers.PhoneNumber, Orders.TotalCost\n",
    "FROM Customers\n",
    "LEFT JOIN Orders\n",
    "ON Customers.CustomerID = Orders.CustomerID\n",
    "WHERE Orders.TotalCost > 60;\"\"\"\n",
    "\n",
    "cursor.execute(join_query)\n",
    "\n",
    "# Fetching the results in a variable called \"results\".\n",
    "results = cursor.fetchall()\n",
    "\n",
    "# Extracting the names of the columns.\n",
    "columns=cursor.column_names\n",
    "\n",
    "# Printing the names of the columns and the stored data using the \"for\" loop.\n",
    "print(columns)\n",
    "for result in results:\n",
    " print(result)\n",
    "\n",
    "# Closing the Connection between Python and MySQL database.\n",
    "if connection.is_connected():\n",
    " cursor.close()\n",
    " print(\"The cursor is closed.\")\n",
    " connection.close()\n",
    " print(\"MySQL connection is closed.\")\n",
    "else:\n",
    " print(\"Connection is already closed\")"
   ]
  },
  {
   "cell_type": "code",
   "execution_count": null,
   "id": "097dbe95-7330-49bf-ba10-d489fd6fcbb3",
   "metadata": {},
   "outputs": [],
   "source": []
  },
  {
   "cell_type": "code",
   "execution_count": null,
   "id": "382a5893-0c9e-450e-b729-dc378410d74a",
   "metadata": {},
   "outputs": [],
   "source": []
  }
 ],
 "metadata": {
  "kernelspec": {
   "display_name": "Python 3 (ipykernel)",
   "language": "python",
   "name": "python3"
  },
  "language_info": {
   "codemirror_mode": {
    "name": "ipython",
    "version": 3
   },
   "file_extension": ".py",
   "mimetype": "text/x-python",
   "name": "python",
   "nbconvert_exporter": "python",
   "pygments_lexer": "ipython3",
   "version": "3.12.4"
  }
 },
 "nbformat": 4,
 "nbformat_minor": 5
}
